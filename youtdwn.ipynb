{
 "cells": [
  {
   "cell_type": "code",
   "execution_count": null,
   "id": "4cdf740c",
   "metadata": {},
   "outputs": [
    {
     "name": "stdout",
     "output_type": "stream",
     "text": [
      "Requirement already satisfied: yt-dlp in c:\\users\\thilina perera\\miniconda3\\envs\\junkie\\lib\\site-packages (from -r requirement.txt (line 1)) (2025.6.30)\n"
     ]
    }
   ],
   "source": [
    "%pip install -r requirement.txt"
   ]
  },
  {
   "cell_type": "markdown",
   "id": "fdf580a9",
   "metadata": {},
   "source": [
    "# 🧪 Setup & Video URL Input"
   ]
  },
  {
   "cell_type": "code",
   "execution_count": null,
   "id": "a4fadc45",
   "metadata": {},
   "outputs": [],
   "source": [
    "# 📦 Import required libraries\n",
    "import sys\n",
    "import os\n",
    "\n",
    "# Add the parent directory to the system path to find the 'src' folder\n",
    "sys.path.append(os.path.abspath(os.path.join(os.getcwd(), '..')))\n",
    "from src.downloader import download_media\n",
    "\n",
    "# 🧠 Input video URL\n",
    "video_url = input(\"🎥 Enter the video URL: \").strip()\n",
    "\n",
    "# Basic validation\n",
    "if not video_url.startswith(\"http\"): \n",
    "    raise ValueError(\"❌ Invalid URL.\")\n",
    "\n",
    "print(\"✅ Step 1 Complete: Video URL received.\")"
   ]
  },
  {
   "cell_type": "markdown",
   "id": "3d92cc4c",
   "metadata": {},
   "source": [
    "# 📋 Select Download Type"
   ]
  },
  {
   "cell_type": "code",
   "execution_count": null,
   "id": "d5611057",
   "metadata": {},
   "outputs": [],
   "source": [
    "# ❓ Ask the user for the download type\n",
    "download_options = {\n",
    "    \"1\": \"audio\",\n",
    "    \"2\": \"video\",\n",
    "    \"3\": \"merged\"\n",
    "}\n",
    "\n",
    "print(\"\\n❓ What do you want to download?\")\n",
    "for key, value in download_options.items():\n",
    "    print(f\"{key}. {value.capitalize()}\")\n",
    "\n",
    "selection = input(\"▶️ Enter your choice (1-3): \").strip()\n",
    "\n",
    "download_type = download_options.get(selection)\n",
    "if not download_type:\n",
    "    raise ValueError(\"❌ Invalid selection. Please choose 1, 2, or 3.\")\n",
    "\n",
    "print(f\"✅ Step 2 Complete: You selected to download a {download_type} file.\")"
   ]
  },
  {
   "cell_type": "markdown",
   "id": "b4e7649c",
   "metadata": {},
   "source": [
    "# 🚀 Execute Download"
   ]
  },
  {
   "cell_type": "code",
   "execution_count": null,
   "id": "ba083fcf",
   "metadata": {},
   "outputs": [],
   "source": [
    "# ⬇️ Call the download function from our module\n",
    "try:\n",
    "    print(\"\\n--- Starting download ---\")\n",
    "    download_media(video_url, download_type)\n",
    "    print(\"\\n--- Download process finished ---\")\n",
    "except Exception as e:\n",
    "    print(f\"❌ An error occurred during the download process: {e}\")"
   ]
  }
 ],
 "metadata": {
  "kernelspec": {
   "display_name": "junkie",
   "language": "python",
   "name": "python3"
  },
  "language_info": {
   "codemirror_mode": {
    "name": "ipython",
    "version": 3
   },
   "file_extension": ".py",
   "mimetype": "text/x-python",
   "name": "python",
   "nbconvert_exporter": "python",
   "pygments_lexer": "ipython3",
   "version": "3.13.5"
  }
 },
 "nbformat": 4,
 "nbformat_minor": 5
}
