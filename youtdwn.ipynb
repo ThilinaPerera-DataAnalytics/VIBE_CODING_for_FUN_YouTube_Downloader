{
 "cells": [
  {
   "cell_type": "code",
   "execution_count": 3,
   "id": "4cdf740c",
   "metadata": {},
   "outputs": [
    {
     "name": "stdout",
     "output_type": "stream",
     "text": [
      "Requirement already satisfied: yt-dlp in c:\\users\\thilina perera\\miniconda3\\envs\\junkie\\lib\\site-packages (from -r requirement.txt (line 1)) (2025.6.30)\n",
      "Note: you may need to restart the kernel to use updated packages.\n"
     ]
    }
   ],
   "source": [
    "%pip install -r requirement.txt"
   ]
  },
  {
   "cell_type": "markdown",
   "id": "fdf580a9",
   "metadata": {},
   "source": [
    "# 🧪 Setup & Video URL Input"
   ]
  },
  {
   "cell_type": "code",
   "execution_count": 4,
   "id": "a4fadc45",
   "metadata": {},
   "outputs": [
    {
     "name": "stdout",
     "output_type": "stream",
     "text": [
      "✅ Step 1 Complete: Video URL received.\n"
     ]
    }
   ],
   "source": [
    "# 📦 Import required libraries\n",
    "import sys\n",
    "import os\n",
    "\n",
    "# Add the parent directory to the system path to find the 'src' folder\n",
    "sys.path.append(os.path.abspath(os.path.join(os.getcwd(), '..')))\n",
    "from src.downloader import download_media\n",
    "\n",
    "# 🧠 Input video URL\n",
    "video_url = input(\"🎥 Enter the video URL: \").strip()\n",
    "\n",
    "# Basic validation\n",
    "if not video_url.startswith(\"http\"): \n",
    "    raise ValueError(\"❌ Invalid URL.\")\n",
    "\n",
    "print(\"✅ Step 1 Complete: Video URL received.\")"
   ]
  },
  {
   "cell_type": "markdown",
   "id": "3d92cc4c",
   "metadata": {},
   "source": [
    "# 📋 Select Download Type"
   ]
  },
  {
   "cell_type": "code",
   "execution_count": 5,
   "id": "d5611057",
   "metadata": {},
   "outputs": [
    {
     "name": "stdout",
     "output_type": "stream",
     "text": [
      "\n",
      "❓ What do you want to download?\n",
      "1. Audio\n",
      "2. Video\n",
      "3. Merged\n",
      "✅ Step 2 Complete: You selected to download a merged file.\n"
     ]
    }
   ],
   "source": [
    "# ❓ Ask the user for the download type\n",
    "download_options = {\n",
    "    \"1\": \"audio\",\n",
    "    \"2\": \"video\",\n",
    "    \"3\": \"merged\"\n",
    "}\n",
    "\n",
    "print(\"\\n❓ What do you want to download?\")\n",
    "for key, value in download_options.items():\n",
    "    print(f\"{key}. {value.capitalize()}\")\n",
    "\n",
    "selection = input(\"▶️ Enter your choice (1-3): \").strip()\n",
    "\n",
    "download_type = download_options.get(selection)\n",
    "if not download_type:\n",
    "    raise ValueError(\"❌ Invalid selection. Please choose 1, 2, or 3.\")\n",
    "\n",
    "print(f\"✅ Step 2 Complete: You selected to download a {download_type} file.\")"
   ]
  },
  {
   "cell_type": "markdown",
   "id": "b4e7649c",
   "metadata": {},
   "source": [
    "# 🚀 Execute Download"
   ]
  },
  {
   "cell_type": "code",
   "execution_count": 6,
   "id": "ba083fcf",
   "metadata": {},
   "outputs": [
    {
     "name": "stdout",
     "output_type": "stream",
     "text": [
      "\n",
      "--- Starting download ---\n",
      "🛠 Running command: yt-dlp -f bestvideo+bestaudio/best --merge-output-format mp4 -o downloads/%(title)s.%(ext)s https://www.youtube.com/watch?v=jefp7vkPnuE\n",
      "[youtube] Extracting URL: https://www.youtube.com/watch?v=jefp7vkPnuE\n",
      "[youtube] jefp7vkPnuE: Downloading webpage\n",
      "[youtube] jefp7vkPnuE: Downloading tv client config\n",
      "[youtube] jefp7vkPnuE: Downloading tv player API JSON\n",
      "[youtube] jefp7vkPnuE: Downloading ios player API JSON\n",
      "[youtube] jefp7vkPnuE: Downloading m3u8 information\n",
      "[info] Testing format 628\n",
      "ERROR: \n",
      "[download] Got error: HTTP Error 403: Forbidden\n",
      "ERROR: fragment 1 not found, unable to continue\n",
      "[info] Unable to download format 628. Skipping...\n",
      "[info] Testing format 623\n",
      "ERROR: \n",
      "[download] Got error: HTTP Error 403: Forbidden\n",
      "ERROR: fragment 1 not found, unable to continue\n",
      "[info] Unable to download format 623. Skipping...\n",
      "[info] Testing format 617\n",
      "ERROR: \n",
      "[download] Got error: HTTP Error 403: Forbidden\n",
      "ERROR: fragment 1 not found, unable to continue\n",
      "[info] Unable to download format 617. Skipping...\n",
      "[info] Testing format 312\n",
      "ERROR: \n",
      "[download] Got error: HTTP Error 403: Forbidden\n",
      "ERROR: fragment 1 not found, unable to continue\n",
      "[info] Unable to download format 312. Skipping...\n",
      "[info] Testing format 612\n",
      "ERROR: \n",
      "[download] Got error: HTTP Error 403: Forbidden\n",
      "ERROR: fragment 1 not found, unable to continue\n",
      "[info] Unable to download format 612. Skipping...\n",
      "[info] Testing format 311\n",
      "ERROR: \n",
      "[download] Got error: HTTP Error 403: Forbidden\n",
      "ERROR: fragment 1 not found, unable to continue\n",
      "[info] Unable to download format 311. Skipping...\n",
      "[info] Testing format 606\n",
      "ERROR: \n",
      "[download] Got error: HTTP Error 403: Forbidden\n",
      "ERROR: fragment 1 not found, unable to continue\n",
      "[info] Unable to download format 606. Skipping...\n",
      "[info] Testing format 231\n",
      "ERROR: \n",
      "[download] Got error: HTTP Error 403: Forbidden\n",
      "ERROR: fragment 1 not found, unable to continue\n",
      "[info] Unable to download format 231. Skipping...\n",
      "[info] Testing format 605\n",
      "ERROR: \n",
      "[download] Got error: HTTP Error 403: Forbidden\n",
      "ERROR: fragment 1 not found, unable to continue\n",
      "[info] Unable to download format 605. Skipping...\n",
      "[info] Testing format 230\n",
      "ERROR: \n",
      "[download] Got error: HTTP Error 403: Forbidden\n",
      "ERROR: fragment 1 not found, unable to continue\n",
      "[info] Unable to download format 230. Skipping...\n",
      "[info] Testing format 604\n",
      "ERROR: \n",
      "[download] Got error: HTTP Error 403: Forbidden\n",
      "ERROR: fragment 1 not found, unable to continue\n",
      "[info] Unable to download format 604. Skipping...\n",
      "[info] Testing format 229\n",
      "ERROR: \n",
      "[download] Got error: HTTP Error 403: Forbidden\n",
      "ERROR: fragment 1 not found, unable to continue\n",
      "[info] Unable to download format 229. Skipping...\n",
      "[info] Testing format 603\n",
      "ERROR: \n",
      "[download] Got error: HTTP Error 403: Forbidden\n",
      "ERROR: fragment 1 not found, unable to continue\n",
      "[info] Unable to download format 603. Skipping...\n",
      "[info] Testing format 269\n",
      "ERROR: \n",
      "[download] Got error: HTTP Error 403: Forbidden\n",
      "ERROR: fragment 1 not found, unable to continue\n",
      "[info] Unable to download format 269. Skipping...\n",
      "[info] Testing format 602\n",
      "ERROR: \n",
      "[download] Got error: HTTP Error 403: Forbidden\n",
      "ERROR: fragment 1 not found, unable to continue\n",
      "[info] Unable to download format 602. Skipping...\n",
      "[info] Testing format 234\n",
      "ERROR: \n",
      "[download] Got error: HTTP Error 403: Forbidden\n",
      "ERROR: fragment 1 not found, unable to continue\n",
      "[info] Unable to download format 234. Skipping...\n",
      "[info] Testing format 233\n",
      "ERROR: \n",
      "[download] Got error: HTTP Error 403: Forbidden\n",
      "ERROR: fragment 1 not found, unable to continue\n",
      "[info] Unable to download format 233. Skipping...\n",
      "ERROR: [youtube] jefp7vkPnuE: Requested format is not available. Use --list-formats for a list of available formats\n",
      "\n",
      "❌ Download failed with return code 1.\n",
      "\n",
      "--- Download process finished ---\n"
     ]
    }
   ],
   "source": [
    "# ⬇️ Call the download function from our module\n",
    "try:\n",
    "    print(\"\\n--- Starting download ---\")\n",
    "    download_media(video_url, download_type)\n",
    "    print(\"\\n--- Download process finished ---\")\n",
    "except Exception as e:\n",
    "    print(f\"❌ An error occurred during the download process: {e}\")"
   ]
  }
 ],
 "metadata": {
  "kernelspec": {
   "display_name": "junkie",
   "language": "python",
   "name": "python3"
  },
  "language_info": {
   "codemirror_mode": {
    "name": "ipython",
    "version": 3
   },
   "file_extension": ".py",
   "mimetype": "text/x-python",
   "name": "python",
   "nbconvert_exporter": "python",
   "pygments_lexer": "ipython3",
   "version": "3.13.5"
  }
 },
 "nbformat": 4,
 "nbformat_minor": 5
}
